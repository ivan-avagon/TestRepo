{
  "metadata": {
    "kernelspec": {
      "name": "python",
      "display_name": "Python (Pyodide)",
      "language": "python"
    },
    "language_info": {
      "codemirror_mode": {
        "name": "python",
        "version": 3
      },
      "file_extension": ".py",
      "mimetype": "text/x-python",
      "name": "python",
      "nbconvert_exporter": "python",
      "pygments_lexer": "ipython3",
      "version": "3.8"
    }
  },
  "nbformat_minor": 5,
  "nbformat": 4,
  "cells": [
    {
      "id": "ed6d0f30-7d4c-4384-832b-7b1b088584cf",
      "cell_type": "code",
      "source": "# Data Science Tools and Ecosystem",
      "metadata": {
        "trusted": true
      },
      "outputs": [],
      "execution_count": 9
    },
    {
      "id": "0b88eb47-0b28-47c3-b55b-51af07bad2cf",
      "cell_type": "markdown",
      "source": "In this notebook, Data Science Tools and Ecosystem are summarized.",
      "metadata": {}
    },
    {
      "id": "6f4fded3-35fb-4e54-b06a-93944ddf763d",
      "cell_type": "markdown",
      "source": "1 a\n2 b\n3 c",
      "metadata": {}
    },
    {
      "id": "a81ab1f9-f42e-4e6d-9769-695cbe8636e2",
      "cell_type": "markdown",
      "source": "Some of the popular languages that Data Scientists use are:\n\n1. Python  \n2. R  \n3. SQL  \n4. Julia\n5. Scala",
      "metadata": {}
    },
    {
      "id": "d9ba527d-c1c7-4ad0-a967-735e46e45ee2",
      "cell_type": "markdown",
      "source": "Some of the commonly used libraries used by Data Scientists include:\n\n1. Pandas  \n2. NumPy  \n3. Matplotlib  \n4. Scikit-learn  \n5. TensorFlow\n\n",
      "metadata": {}
    },
    {
      "id": "7fc786ac-6061-480c-b279-26acb6d9c17d",
      "cell_type": "markdown",
      "source": "| Data Science Tools       |\n|--------------------------|\n| Jupyter Notebook         |\n| RStudio                  |\n| Apache Zeppelin          |\n",
      "metadata": {}
    },
    {
      "id": "e5cba4b0-aa1f-4eb9-b346-4046856704e0",
      "cell_type": "markdown",
      "source": "| Data Science Tools       |\n|--------------------------|\n| Jupyter Notebook         |\n| RStudio                  |\n| Apache Zeppelin          |\n",
      "metadata": {}
    },
    {
      "id": "48c24727-c892-41a3-a93c-fb3703bf8b13",
      "cell_type": "markdown",
      "source": "### Below are a few examples of evaluating arithmetic expressions in Python.\n",
      "metadata": {}
    },
    {
      "id": "b3c2817e-95ed-4301-b807-f53f0e835ddc",
      "cell_type": "code",
      "source": "# This is a simple arithmetic expression to multiply then add integers\n(3 * 4) + 5\n",
      "metadata": {
        "trusted": true
      },
      "outputs": [
        {
          "execution_count": 18,
          "output_type": "execute_result",
          "data": {
            "text/plain": "17"
          },
          "metadata": {}
        }
      ],
      "execution_count": 18
    },
    {
      "id": "04650a76-06aa-4e83-b4f4-223c9099db36",
      "cell_type": "code",
      "source": "# This will convert 200 minutes to hours by dividing by 60\n200 / 60\n",
      "metadata": {
        "trusted": true
      },
      "outputs": [
        {
          "execution_count": 17,
          "output_type": "execute_result",
          "data": {
            "text/plain": "3.3333333333333335"
          },
          "metadata": {}
        }
      ],
      "execution_count": 17
    },
    {
      "id": "2ea2d939-aa09-4b78-828d-1143a8f88e5e",
      "cell_type": "markdown",
      "source": "**Objectives:**\n\n- List popular languages for Data Science  \n- List commonly used libraries  \n- Demonstrate basic arithmetic in Python  \n- Showcase some development tools\n",
      "metadata": {}
    },
    {
      "id": "ed1cd44f-77e6-48b0-ac29-322881844794",
      "cell_type": "markdown",
      "source": "## Author\n\nIván Ávalos\n",
      "metadata": {}
    },
    {
      "id": "ebda0b42-1f02-4940-9fd1-d7fd8d4819d6",
      "cell_type": "code",
      "source": "",
      "metadata": {
        "trusted": true
      },
      "outputs": [],
      "execution_count": null
    },
    {
      "id": "c39265d2-6975-4188-a354-b76e3f7b08f6",
      "cell_type": "code",
      "source": "",
      "metadata": {
        "trusted": true
      },
      "outputs": [],
      "execution_count": null
    }
  ]
}